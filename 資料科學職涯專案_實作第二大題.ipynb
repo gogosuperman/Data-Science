{
 "cells": [
  {
   "cell_type": "code",
   "execution_count": 1,
   "metadata": {},
   "outputs": [
    {
     "name": "stdout",
     "output_type": "stream",
     "text": [
      "{'republic': 3, 'called': 1, 'embassies': 1, 'late': 1, '1960s': 1, 'ranges': 1, 'western': 1, 'entered': 1, 'military': 1, 'human': 1, 'major': 3, '20th-largest': 1, '2357': 1, 'under': 1, '6000': 1, 'a': 10, 'period': 1, 'ties': 2, 'government': 1, 'were': 1, 'succeeded': 1, 'been': 2, 'partial': 1, 'numerous': 1, 'tungning': 1, 'asia-pacific': 1, 'between': 1, 'is': 11, 'include': 2, 'country': 2, 'prc': 4, 'dynasty': 1, 'colonization': 1, 'promoting': 2, 'main': 1, 'concentrated': 1, 'terms': 1, 'one-party': 1, 'organisations': 1, 'east': 1, 'contention': 1, 'appeal': 1, '1980s': 1, 'measures': 1, 'overthrown': 1, 'annexed': 1, 'manufacturing': 1, 'libertieseducation': 1, 'diplomatic': 3, 'many': 1, 'official': 1, 'democracy': 1, 'tainan': 1, 'relations': 1, 'with': 8, 'its': 2, 'largest': 1, 'both': 1, 'rule': 1, 'system': 1, 'of': 25, 'following': 1, \"taiwan's\": 1, '1990s': 1, 'well': 1, 'populated': 1, 'maintain': 1, 'kingdom': 1, 'developed': 1, '1949': 1, 'smaller': 1, 'islands': 1, 'industrialisation': 1, 'qing': 2, 'ceded': 1, 'limited': 1, 'sides': 1, 'on': 2, 'which': 3, 'that': 2, 'dutch': 1, 'de': 1, '1950': 1, 'claim': 1, 'uncertain': 1, 'other': 1, 'took': 1, 'metropolitan': 1, 'early': 2, 'care': 1, 'offices': 1, 'eastern': 1, 'economic': 2, 'industrial': 1, 'taiwan': 17, 'gdp': 2, 'electronics': 1, 'those': 1, 'northwest': 1, 'ranked': 1, 'population': 1, 'participate': 1, 'million': 1, 'roc': 5, 'having': 1, 'has': 2, 'as': 3, '1911': 1, 'status': 1, 'part': 1, \"roc's\": 1, 'and': 19, 'since': 1, 'function': 1, 'it': 2, 'moderated': 1, 'broaden': 1, 'highly': 2, \"people's\": 1, 'where': 1, 'out': 1, 'south': 1, 'un': 2, 'refuses': 1, 'indigenous': 1, 'plains': 1, 'although': 2, 'taipei': 2, 'be': 1, 'claimed': 1, 'identity': 2, 'to': 16, '35808': 1, 'mass': 1, 'steel': 1, 'unofficial': 1, '1895': 1, '21st-largest': 1, 'capital': 1, '1683': 1, 'taichung': 1, 'various': 1, 'participates': 1, 'chemicals': 1, 'peoples': 1, 'states': 1, 'favouring': 1, 'most': 1, 'development': 2, 'around': 1, 'export-oriented': 1, 'settled': 1, 'miracle\"': 1, 'aspiring': 1, 'trade': 1, 'from': 2, 'parties': 1, 'kaohsiung': 1, 'per': 1, 'names': 1, 'allies': 1, 'new': 1, 'ii': 1, 'retreat': 1, 'transitioned': 1, 'economy': 1, 'brief': 1, 'membership': 1, '\"taiwan': 1, 'after': 1, 'positions': 1, 'empire': 1, 'longer': 1, 'austronesian-speaking': 1, 'rapid': 1, 'machinery': 1, 'ranking': 1, 'northeast': 1, 'remains': 1, 'civil': 2, '1971': 1, 'years': 1, 'semi-presidential': 1, 'basis': 1, '14': 1, 'had': 1, 'mountain': 1, 'resulted': 1, 'war': 2, 'in': 16, 'either': 1, 'through': 1, 'or': 1, 'effective': 1, 'only': 1, 'eventual': 1, 'japan': 3, 'asian': 1, 'recognise': 1, '15th': 1, '1945': 1, 'holy': 1, 'square': 1, 'multi-party': 1, 'cooperation': 1, 'have': 1, 'capita': 1, 'refuse': 1, 'chinese': 5, 'unification': 1, 'southwestern': 1, 'communist': 1, 'mainland': 1, 'independence': 1, 'contrasted': 1, 'two-thirds': 1, 'non-state': 1, '193': 1, 'control': 1, 'by': 6, 'seeinternational': 1, 'area': 2, 'among': 1, 'taoyuan': 1, 'taiwanese': 2, 'no': 1, 'third': 1, 'parts': 1, 'the': 46, 'inhabitants': 1, 'island': 4, 'member': 3, 'grant': 1, 'jurisdiction': 1, 'behalf': 1, 'organization': 1, 'surrender': 1, 'densely': 1, 'facto': 1, 'han': 1, 'china': 6, 'ago': 1, 'world': 3, 'ppp': 1, 'an': 1, 'kilometres': 1, 'growth': 1, 'legitimate': 1, 'replaced': 1, 'domestically': 1, 'opened': 1, 'representative': 2, 'cities': 1, 'urbanised': 1, 'dominating': 1, 'bank': 1, 'allow': 1, 'officially': 1, 'countries': 4, 'nominal': 1, 'consulates': 1, '17th': 1, 'maintains': 1, 'institutions': 1, 'century': 1, 'philippines': 1, 'resumption': 1, 'party': 1, 'continued': 1, 'dictatorship': 1, 'their': 2, 'asianeighbouring': 1, 'contributions': 1, 'loss': 1, 'political': 3, 'health': 1, 'immigration': 1}\n"
     ]
    }
   ],
   "source": [
    "#有嘗試過使用爬蟲爬 url，但因為網址為 google 共享連結，直接用 beautifulsoup 爬網頁原始檔並找結構內還是太弱爬不到，\n",
    "#加上 header 爬還是不到，最後發現可能要使用授權或串 google api 來爬，爬了很多天還是沒爬到\n",
    "#實力不夠及時間不夠下最後還是將檔案下載下來，並使用讀入的方式使用 txt 檔 TT\n",
    "\n",
    "import re \n",
    "with open(\"/Users/zionhsu/Desktop/文檔.txt\", \"r\", encoding=\"utf-8\") as poo:#把檔案先 read 進來\n",
    "    word_list = []     # 存所有單詞，小寫跟標點符號剔除，並去除空格\n",
    "    word_dict = {}     # 用 dictionary 存放結果\n",
    "    for line in poo.readlines():\n",
    "        for word in line.strip().split(\" \"): #切割空白\n",
    "            word_list.append(re.sub(r\"[.|,|()]\", \"\", word.lower()))\n",
    "    word_sets = list(set(word_list)) #確定唯一\n",
    "    word_dict = {word: word_list.count(word) for word in word_sets if word} #結果放入 dict 方面未來使用\n",
    "#print(word_sets)\n",
    "print(word_dict)"
   ]
  },
  {
   "cell_type": "code",
   "execution_count": 2,
   "metadata": {},
   "outputs": [
    {
     "name": "stdout",
     "output_type": "stream",
     "text": [
      "Counter({'the': 46, 'of': 25, 'taiwan': 19, 'and': 19, 'in': 16, 'to': 16, 'is': 11, 'a': 10, 'with': 8, 'china': 6, 'roc': 6, 'by': 6, 'chinese': 5, 'countries': 4, 'prc': 4, 'island': 4, 'republic': 3, 's': 3, 'japan': 3, 'as': 3, 'largest': 3, 'major': 3, 'which': 3, 'world': 3, 'party': 3, 'political': 3, 'member': 3, 'diplomatic': 3, 'country': 2, 'asia': 2, 'include': 2, 'has': 2, 'area': 2, 'its': 2, 'highly': 2, 'taipei': 2, 'taiwanese': 2, 'qing': 2, 'on': 2, 'war': 2, 'civil': 2, 'although': 2, 'representative': 2, 'been': 2, 'early': 2, 'economic': 2, 'from': 2, 'gdp': 2, 'it': 2, 'development': 2, 'un': 2, 'that': 2, 'ties': 2, 'promoting': 2, 'identity': 2, 'their': 2, 'officially': 1, 'east': 1, 'neighbouring': 1, 'people': 1, 'northwest': 1, 'northeast': 1, 'philippines': 1, 'south': 1, 'main': 1, 'an': 1, '35': 1, '808': 1, 'square': 1, 'kilometres': 1, 'mountain': 1, 'ranges': 1, 'dominating': 1, 'eastern': 1, 'two': 1, 'thirds': 1, 'plains': 1, 'western': 1, 'third': 1, 'where': 1, 'urbanised': 1, 'population': 1, 'concentrated': 1, 'capital': 1, 'well': 1, 'metropolitan': 1, 'other': 1, 'cities': 1, 'new': 1, 'kaohsiung': 1, 'taichung': 1, 'tainan': 1, 'taoyuan': 1, '23': 1, '57': 1, 'million': 1, 'inhabitants': 1, 'among': 1, 'most': 1, 'densely': 1, 'populated': 1, 'austronesian': 1, 'speaking': 1, 'indigenous': 1, 'peoples': 1, 'settled': 1, 'around': 1, '6': 1, '000': 1, 'years': 1, 'ago': 1, '17th': 1, 'century': 1, 'partial': 1, 'dutch': 1, 'colonization': 1, 'opened': 1, 'mass': 1, 'han': 1, 'immigration': 1, 'after': 1, 'brief': 1, 'rule': 1, 'part': 1, 'southwestern': 1, 'kingdom': 1, 'tungning': 1, 'parts': 1, 'were': 1, 'annexed': 1, '1683': 1, 'dynasty': 1, 'ceded': 1, 'empire': 1, '1895': 1, 'had': 1, 'overthrown': 1, 'succeeded': 1, '1911': 1, 'took': 1, 'control': 1, 'behalf': 1, 'ii': 1, 'allies': 1, 'following': 1, 'surrender': 1, '1945': 1, 'resumption': 1, 'resulted': 1, 'loss': 1, 'mainland': 1, 'communist': 1, 'retreat': 1, '1949': 1, 'government': 1, 'continued': 1, 'claim': 1, 'be': 1, 'legitimate': 1, 'since': 1, '1950': 1, 'effective': 1, 'jurisdiction': 1, 'limited': 1, 'numerous': 1, 'smaller': 1, 'islands': 1, '1960s': 1, 'entered': 1, 'period': 1, 'rapid': 1, 'growth': 1, 'industrialisation': 1, 'called': 1, 'miracle': 1, 'late': 1, '1980s': 1, '1990s': 1, 'transitioned': 1, 'one': 1, 'military': 1, 'dictatorship': 1, 'multi': 1, 'democracy': 1, 'semi': 1, 'presidential': 1, 'system': 1, 'export': 1, 'oriented': 1, 'industrial': 1, 'economy': 1, '21st': 1, 'nominal': 1, '20th': 1, 'ppp': 1, 'measures': 1, 'contributions': 1, 'steel': 1, 'machinery': 1, 'electronics': 1, 'chemicals': 1, 'manufacturing': 1, 'developed': 1, 'ranking': 1, '15th': 1, 'per': 1, 'capita': 1, 'ranked': 1, 'terms': 1, 'liberties': 1, 'education': 1, 'health': 1, 'care': 1, 'human': 1, 'status': 1, 'remains': 1, 'uncertain': 1, 'no': 1, 'longer': 1, 'having': 1, 'replaced': 1, '1971': 1, 'claimed': 1, 'refuses': 1, 'relations': 1, 'recognise': 1, 'maintains': 1, 'official': 1, '14': 1, 'out': 1, '193': 1, 'states': 1, 'holy': 1, 'see': 1, 'international': 1, 'organisations': 1, 'participates': 1, 'either': 1, 'refuse': 1, 'grant': 1, 'membership': 1, 'or': 1, 'allow': 1, 'participate': 1, 'only': 1, 'non': 1, 'state': 1, 'basis': 1, 'trade': 1, 'organization': 1, 'pacific': 1, 'cooperation': 1, 'asian': 1, 'bank': 1, 'under': 1, 'various': 1, 'names': 1, 'many': 1, 'maintain': 1, 'unofficial': 1, 'through': 1, 'offices': 1, 'institutions': 1, 'function': 1, 'de': 1, 'facto': 1, 'embassies': 1, 'consulates': 1, 'domestically': 1, 'contention': 1, 'between': 1, 'parties': 1, 'favouring': 1, 'eventual': 1, 'unification': 1, 'contrasted': 1, 'those': 1, 'aspiring': 1, 'independence': 1, 'both': 1, 'sides': 1, 'have': 1, 'moderated': 1, 'positions': 1, 'broaden': 1, 'appeal': 1})\n"
     ]
    }
   ],
   "source": [
    "#另外一種使用套件讀入的方式，其中他直接將 taiwan's 的次數也算入 taiwan 的，\n",
    "#最後思考下還是使用上面的將 taiwan 與 taiwan's 分開算的方法\n",
    "import re\n",
    "from collections import Counter \n",
    "words = re.findall(r'\\w+',open(\"/Users/zionhsu/Desktop/文檔.txt\", \"r\", encoding=\"utf-8\").read().lower())\n",
    "count = Counter(words)\n",
    "print(count)"
   ]
  },
  {
   "cell_type": "code",
   "execution_count": 3,
   "metadata": {},
   "outputs": [
    {
     "name": "stdout",
     "output_type": "stream",
     "text": [
      "你想找啥字的出現字數：taiwan\n",
      "總共： 17 次\n"
     ]
    }
   ],
   "source": [
    "letter = input(\"你想找啥字的出現字數：\").lower() #input單字，並把他們轉成小寫\n",
    "for a, b in word_dict.items(): \n",
    "    if a == letter:\n",
    "        print(\"總共：\",b,\"次\") #輸出在文本中出現的字數\n",
    "        break\n",
    "else:\n",
    "    print(\"沒出現過！\") #第二大題第一小題的解答～"
   ]
  },
  {
   "cell_type": "code",
   "execution_count": 4,
   "metadata": {},
   "outputs": [
    {
     "name": "stdout",
     "output_type": "stream",
     "text": [
      "['taiwan', 'officially', 'the', 'republic', 'of', 'china', 'roc', 'is', 'a', 'country', 'in', 'east', 'asia', 'neighbouring', 'countries', 'include', 'the', 'people', 's', 'republic', 'of', 'china', 'prc', 'to', 'the', 'northwest', 'japan', 'to', 'the', 'northeast', 'and', 'the', 'philippines', 'to', 'the', 'south', 'the', 'main', 'island', 'of', 'taiwan', 'has', 'an', 'area', 'of', '35', '808', 'square', 'kilometres', 'with', 'mountain', 'ranges', 'dominating', 'the', 'eastern', 'two', 'thirds', 'and', 'plains', 'in', 'the', 'western', 'third', 'where', 'its', 'highly', 'urbanised', 'population', 'is', 'concentrated', 'taipei', 'is', 'the', 'capital', 'as', 'well', 'as', 'the', 'largest', 'metropolitan', 'area', 'of', 'taiwan', 'other', 'major', 'cities', 'include', 'new', 'taipei', 'kaohsiung', 'taichung', 'tainan', 'and', 'taoyuan', 'with', '23', '57', 'million', 'inhabitants', 'taiwan', 'is', 'among', 'the', 'most', 'densely', 'populated', 'countries', 'austronesian', 'speaking', 'taiwanese', 'indigenous', 'peoples', 'settled', 'the', 'island', 'of', 'taiwan', 'around', '6', '000', 'years', 'ago', 'in', 'the', '17th', 'century', 'partial', 'dutch', 'colonization', 'opened', 'the', 'island', 'to', 'mass', 'han', 'chinese', 'immigration', 'after', 'the', 'brief', 'rule', 'of', 'part', 'of', 'southwestern', 'taiwan', 'by', 'the', 'kingdom', 'of', 'tungning', 'parts', 'of', 'the', 'island', 'were', 'annexed', 'in', '1683', 'by', 'the', 'qing', 'dynasty', 'of', 'china', 'and', 'ceded', 'to', 'the', 'empire', 'of', 'japan', 'in', '1895', 'the', 'republic', 'of', 'china', 'which', 'had', 'overthrown', 'and', 'succeeded', 'the', 'qing', 'in', '1911', 'took', 'control', 'of', 'taiwan', 'on', 'behalf', 'of', 'the', 'world', 'war', 'ii', 'allies', 'following', 'the', 'surrender', 'of', 'japan', 'in', '1945', 'the', 'resumption', 'of', 'the', 'chinese', 'civil', 'war', 'resulted', 'in', 'the', 'roc', 's', 'loss', 'of', 'mainland', 'china', 'to', 'the', 'chinese', 'communist', 'party', 'and', 'retreat', 'to', 'taiwan', 'in', '1949', 'although', 'the', 'roc', 'government', 'continued', 'to', 'claim', 'to', 'be', 'the', 'legitimate', 'representative', 'of', 'china', 'since', '1950', 'its', 'effective', 'jurisdiction', 'has', 'been', 'limited', 'to', 'taiwan', 'and', 'numerous', 'smaller', 'islands', 'in', 'the', 'early', '1960s', 'taiwan', 'entered', 'a', 'period', 'of', 'rapid', 'economic', 'growth', 'and', 'industrialisation', 'called', 'the', 'taiwan', 'miracle', 'in', 'the', 'late', '1980s', 'and', 'early', '1990s', 'the', 'roc', 'transitioned', 'from', 'a', 'one', 'party', 'military', 'dictatorship', 'to', 'a', 'multi', 'party', 'democracy', 'with', 'a', 'semi', 'presidential', 'system', 'taiwan', 's', 'export', 'oriented', 'industrial', 'economy', 'is', 'the', '21st', 'largest', 'in', 'the', 'world', 'by', 'nominal', 'gdp', 'and', '20th', 'largest', 'by', 'ppp', 'measures', 'with', 'major', 'contributions', 'from', 'steel', 'machinery', 'electronics', 'and', 'chemicals', 'manufacturing', 'taiwan', 'is', 'a', 'developed', 'country', 'ranking', '15th', 'in', 'gdp', 'per', 'capita', 'it', 'is', 'ranked', 'highly', 'in', 'terms', 'of', 'political', 'and', 'civil', 'liberties', 'education', 'health', 'care', 'and', 'human', 'development', 'the', 'political', 'status', 'of', 'taiwan', 'remains', 'uncertain', 'the', 'roc', 'is', 'no', 'longer', 'a', 'member', 'of', 'the', 'un', 'having', 'been', 'replaced', 'by', 'the', 'prc', 'in', '1971', 'taiwan', 'is', 'claimed', 'by', 'the', 'prc', 'which', 'refuses', 'diplomatic', 'relations', 'with', 'countries', 'that', 'recognise', 'the', 'roc', 'taiwan', 'maintains', 'official', 'diplomatic', 'ties', 'with', '14', 'out', 'of', '193', 'un', 'member', 'states', 'and', 'the', 'holy', 'see', 'international', 'organisations', 'in', 'which', 'the', 'prc', 'participates', 'either', 'refuse', 'to', 'grant', 'membership', 'to', 'taiwan', 'or', 'allow', 'it', 'to', 'participate', 'only', 'on', 'a', 'non', 'state', 'basis', 'taiwan', 'is', 'a', 'member', 'of', 'the', 'world', 'trade', 'organization', 'asia', 'pacific', 'economic', 'cooperation', 'and', 'asian', 'development', 'bank', 'under', 'various', 'names', 'many', 'countries', 'maintain', 'unofficial', 'diplomatic', 'ties', 'with', 'taiwan', 'through', 'representative', 'offices', 'and', 'institutions', 'that', 'function', 'as', 'de', 'facto', 'embassies', 'and', 'consulates', 'domestically', 'the', 'major', 'political', 'contention', 'is', 'between', 'parties', 'favouring', 'eventual', 'chinese', 'unification', 'and', 'promoting', 'a', 'chinese', 'identity', 'contrasted', 'with', 'those', 'aspiring', 'to', 'independence', 'and', 'promoting', 'taiwanese', 'identity', 'although', 'both', 'sides', 'have', 'moderated', 'their', 'positions', 'to', 'broaden', 'their', 'appeal']\n"
     ]
    }
   ],
   "source": [
    "#第二小題開始，最一開始有想到要用 TF-IDF與 N-gram去找詞頻獲前後文的機率，\n",
    "#但後來決定用比較陽春的方法～\n",
    "\n",
    "print(words) #先偷偷看一下總共有哪些字的字串"
   ]
  },
  {
   "cell_type": "code",
   "execution_count": 5,
   "metadata": {},
   "outputs": [
    {
     "name": "stdout",
     "output_type": "stream",
     "text": [
      "你想找啥字：taiman\n"
     ]
    }
   ],
   "source": [
    "#答題邏輯！想要先依照輸入的字利用 list 的 index 輸出他的前後字，\n",
    "#接著再透過這個前後字當 key 去配對後面算出所有字的機率的字典裡的 value 去找答案\n",
    "\n",
    "poo = input(\"你想找啥字：\").lower() \n",
    "#words.index(poo[, start[, end]])\n",
    "poo_indexes = [n for n,x in enumerate(words) if x==poo] #尋找 input 字的 index\n",
    "pooo_indexes = [i + 1 for i in poo_indexes] #尋找 input 後一個字的 index\n",
    "poooo_indexes = [i - 1 for i in poo_indexes]  #尋找 input 前一個字的 index\n",
    "#words[poo_indexes] #可以再依照 index 轉回字"
   ]
  },
  {
   "cell_type": "code",
   "execution_count": 6,
   "metadata": {},
   "outputs": [
    {
     "name": "stdout",
     "output_type": "stream",
     "text": [
      "你想找啥字：taiwan\n",
      "總共： 1 次\n"
     ]
    }
   ],
   "source": [
    "poo = input(\"你想找啥字：\").lower()\n",
    "next_word = words[words.index(poo) +1] #這裡可以先找到輸入單字的後一個字的詞頻\n",
    "for a, b in word_dict.items(): \n",
    "    if a == next_word:\n",
    "        print(\"總共：\",b,\"次\")\n",
    "        break\n",
    "else:\n",
    "    print(\"沒出現過！\")"
   ]
  },
  {
   "cell_type": "code",
   "execution_count": 9,
   "metadata": {},
   "outputs": [
    {
     "name": "stdout",
     "output_type": "stream",
     "text": [
      "immigration 0.1968503937007874\n"
     ]
    }
   ],
   "source": [
    "#算出英文文本中所有字的所有單字頻率，但是不知道為什麼怎麼算都不太對TT\n",
    "s = sum(word_dict.values()) \n",
    "#s = sum(word_dict.itervalues())\n",
    "for a, b in word_dict.items():\n",
    "    pct = v *100 / s\n",
    "print(a, pct)\n",
    "#mm_dict = {k:pct} #把它存成 dictionary方便往後配對\n",
    "#mm_dict\n",
    "\n",
    "#接下來如果成功算出所有字的所有單字機率，就會利用前面的輸入前後字去配對得到答案！！"
   ]
  },
  {
   "cell_type": "code",
   "execution_count": 8,
   "metadata": {},
   "outputs": [],
   "source": [
    "#其他嘗試過程\n",
    "#import operator\n",
    "# items里面是一个列表，列表里面是由多个的元祖组成，元祖的构成第一个位置是字典的Key，第二个元素是，Value\n",
    "# 按照value来排序\n",
    "# 如果不加key参数，会默认按照字典的key来排序\n",
    "# reverse表示是正序还是倒序\n",
    "\n",
    "#omg = sorted(word_dict.items(),key=operator.itemgetter(1),reverse=True)\n",
    "#print(omg)\n",
    "\n",
    "#spltext = text.lower().split()\n",
    "# 因为文本是英文的，大小写会分成两种词语\n",
    "# 先转换为小写再执行\n",
    "#print(spltext)\n",
    "\n",
    "#dic = {}\n",
    "#for word in spltext:\n",
    "    #if word not in dic:\n",
    "        #dic[word] = 1\n",
    "    #else:\n",
    "        #dic[word] = dic[word] + 1\n",
    "#dic\n",
    "#import operator\n",
    "# items里面是一个列表，列表里面是由多个的元祖组成，元祖的构成第一个位置是字典的Key，第二个元素是，Value\n",
    "# 按照value来排序\n",
    "# 如果不加key参数，会默认按照字典的key来排序\n",
    "# reverse表示是正序还是倒序\n",
    "\n",
    "#swd = sorted(dic.items(),key=operator.itemgetter(1),reverse=True)\n",
    "#print(swd)\n",
    "\n",
    "#import numpy as np\n",
    "#text_file = open(\"/Users/zionhsu/Desktop/文檔.txt\", \"r\")\n",
    "#xx = text_file.readlines()\n",
    "#for line in text_file.readlines():\n",
    "    #for word in line.strip().split(\" \"):\n",
    "#print(text_file)\n",
    "#my_array = np.array(lineslist)\n",
    "\n",
    "#word = input(\"你想找啥字的字數\").lower()\n",
    "# returns first occurrence of Substring \n",
    "# How to use find() \n",
    "#for text in lineslist:\n",
    "    #print(text)\n",
    "    #if word in text:\n",
    "        #print(yes)\n",
    "        \n",
    "    #print (\"Contains given substring \") \n",
    "#else: \n",
    "    #print (\"Doesn't contains given substring\") \n",
    "    #line = input(\"你想找啥字\").lower()\n",
    "#with open(\"/Users/zionhsu/Desktop/文檔.txt\") as openfile:\n",
    "    #for line in openfile:\n",
    "        #for part in line.split():\n",
    "            #if line in part:\n",
    "                #print(line)"
   ]
  }
 ],
 "metadata": {
  "kernelspec": {
   "display_name": "Python 3",
   "language": "python",
   "name": "python3"
  },
  "language_info": {
   "codemirror_mode": {
    "name": "ipython",
    "version": 3
   },
   "file_extension": ".py",
   "mimetype": "text/x-python",
   "name": "python",
   "nbconvert_exporter": "python",
   "pygments_lexer": "ipython3",
   "version": "3.8.3"
  }
 },
 "nbformat": 4,
 "nbformat_minor": 4
}
